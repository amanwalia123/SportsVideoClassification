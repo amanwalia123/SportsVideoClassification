{
 "cells": [
  {
   "cell_type": "markdown",
   "metadata": {},
   "source": [
    "## Object Bank features - Dimentionality Reduction , LR and LSVC classifiers"
   ]
  },
  {
   "cell_type": "markdown",
   "metadata": {},
   "source": [
    "### Importing the data and encode them to samples and targets"
   ]
  },
  {
   "cell_type": "code",
   "execution_count": 2,
   "metadata": {},
   "outputs": [],
   "source": [
    "import os\n",
    "import glob\n",
    "import numpy as np\n",
    "X = []\n",
    "Y = []\n",
    "\n",
    "Dataset_path =\"./Dataset/Objectbank/\"\n",
    "cat_dirs = os.walk(Dataset_path).next()[1]\n",
    "count = 0\n",
    "for cat in cat_dirs:\n",
    "    \n",
    "    label = count\n",
    "    video_dirs_path = Dataset_path + \"/\" + cat\n",
    "    video_dirs =  os.walk(video_dirs_path).next()[1]\n",
    "    \n",
    "    for vid_dir in video_dirs:\n",
    "        vid_dir_path = video_dirs_path  + \"/\"+ vid_dir \n",
    "        for fname in glob.glob(vid_dir_path + \"/*.feat\"):\n",
    "            x = np.loadtxt(fname)\n",
    "            y = count\n",
    "            X.append(x)\n",
    "            Y.append(y)\n",
    "    count = count + 1"
   ]
  },
  {
   "cell_type": "markdown",
   "metadata": {},
   "source": [
    "### L1 based Feature selection"
   ]
  },
  {
   "cell_type": "code",
   "execution_count": null,
   "metadata": {},
   "outputs": [],
   "source": [
    "from sklearn.svm import LinearSVC\n",
    "from sklearn.feature_selection import SelectFromModel\n",
    "\n",
    "lsvc = LinearSVC(C=0.01, penalty=\"l1\", dual=False).fit(X, y)\n",
    "model = SelectFromModel(lsvc, prefit=True)\n",
    "X_L1 = model.transform(X)"
   ]
  },
  {
   "cell_type": "markdown",
   "metadata": {},
   "source": [
    "## Combining the feature vectors of frames and split the dataset to test train\n",
    "\n",
    "We want to have one feature vector that represents the whole video."
   ]
  },
  {
   "cell_type": "code",
   "execution_count": 4,
   "metadata": {},
   "outputs": [],
   "source": [
    "X_videos = [X_L1[x:x+6] for x in range(0, len(X_L1), 6)]   \n",
    "\n",
    "concat_list=[]\n",
    "for k in range(0,320):  \n",
    "    c = [j for i in X_videos[k] for j in i]\n",
    "    concat_list.append(c)    \n",
    "\n",
    "Y_List=[]\n",
    "for i in range(0,8):   \n",
    "    for j in range(0,40):\n",
    "        y = i\n",
    "        Y_List.append(y)\n",
    "\n",
    "\n",
    "X_array=np.asarray(concat_list)\n",
    "Y_array=np.asarray(Y_List)\n",
    "\n",
    "from sklearn.model_selection import train_test_split\n",
    "X_train1, X_test1, y_train1, y_test1 = train_test_split(X_array, Y_array, test_size=0.2, random_state=42)\n"
   ]
  },
  {
   "cell_type": "code",
   "execution_count": 24,
   "metadata": {},
   "outputs": [
    {
     "name": "stdout",
     "output_type": "stream",
     "text": [
      "(256, 1278)\n"
     ]
    }
   ],
   "source": [
    "print(X_train1.shape)"
   ]
  },
  {
   "cell_type": "markdown",
   "metadata": {},
   "source": [
    "## Logistic Regression"
   ]
  },
  {
   "cell_type": "code",
   "execution_count": 7,
   "metadata": {},
   "outputs": [
    {
     "name": "stdout",
     "output_type": "stream",
     "text": [
      "Accuracy for L1 - Logistic regression: 0.8125\n"
     ]
    }
   ],
   "source": [
    "from sklearn.metrics import accuracy_score\n",
    "\n",
    "from sklearn.linear_model import LogisticRegressionCV\n",
    "LR_clf_L1 = LogisticRegressionCV(cv=5, random_state=0,multi_class='multinomial')\n",
    "LR_clf_L1.fit(X_train1, y_train1)\n",
    "y_pred_LR_L1 = LR_clf_L1.predict(X_test1)\n",
    "Acc_LR_l1 = accuracy_score(y_test1, y_pred_LR_L1)\n",
    "print(\"Accuracy for L1 - Logistic regression:\" ,Acc_LR_l1 )"
   ]
  },
  {
   "cell_type": "markdown",
   "metadata": {},
   "source": [
    "## Linear SVC"
   ]
  },
  {
   "cell_type": "code",
   "execution_count": 8,
   "metadata": {},
   "outputs": [
    {
     "name": "stdout",
     "output_type": "stream",
     "text": [
      "Accuracy for L1 - LSVC: 0.78125\n"
     ]
    }
   ],
   "source": [
    "\n",
    "from sklearn.svm import LinearSVC\n",
    "from sklearn.metrics import accuracy_score\n",
    "SVC_clf_L1 = LinearSVC(random_state=0, tol=1e-5)\n",
    "SVC_clf_L1.fit(X_train1, y_train1)\n",
    "y_pred_SVC_L1=SVC_clf_L1.predict(X_test1)\n",
    "Acc_SVC_L1 = accuracy_score(y_test1, y_pred_SVC_L1)\n",
    "print(\"Accuracy for L1 - LSVC:\" ,Acc_SVC_L1 )"
   ]
  },
  {
   "cell_type": "markdown",
   "metadata": {},
   "source": [
    "## Tree based feature selection"
   ]
  },
  {
   "cell_type": "code",
   "execution_count": 9,
   "metadata": {},
   "outputs": [],
   "source": [
    "from sklearn.ensemble import ExtraTreesClassifier\n",
    "from sklearn.feature_selection import SelectFromModel\n",
    "\n",
    "\n",
    "ETC = ExtraTreesClassifier()\n",
    "ETC = ETC.fit(X, Y)\n",
    "ETC.feature_importances_  \n",
    "model2 = SelectFromModel(ETC, prefit=True)\n",
    "X_new_2 = model2.transform(X)\n"
   ]
  },
  {
   "cell_type": "markdown",
   "metadata": {},
   "source": [
    "## Combining the feature vectors of frames and split the dataset to test train"
   ]
  },
  {
   "cell_type": "code",
   "execution_count": 10,
   "metadata": {},
   "outputs": [],
   "source": [
    "X_videos = [X_new_2[x:x+6] for x in range(0, len(X_new_2), 6)]   \n",
    "\n",
    "concat_list=[]\n",
    "for k in range(0,320):  \n",
    "    c = [j for i in X_videos[k] for j in i]\n",
    "    concat_list.append(c)    \n",
    "\n",
    "\n",
    "Y_List=[]\n",
    "for i in range(0,8):   \n",
    "    for j in range(0,40):\n",
    "        y = i\n",
    "        Y_List.append(y)\n",
    "\n",
    "\n",
    "\n",
    "X_array=np.asarray(concat_list)\n",
    "Y_array=np.asarray(Y_List)\n",
    "\n",
    "\n",
    "\n",
    "from sklearn.model_selection import train_test_split\n",
    "X_train2, X_test2, y_train2, y_test2 = train_test_split(X_array, Y_array, test_size=0.2, random_state=42)\n"
   ]
  },
  {
   "cell_type": "code",
   "execution_count": 11,
   "metadata": {},
   "outputs": [
    {
     "name": "stdout",
     "output_type": "stream",
     "text": [
      "(256, 25662)\n"
     ]
    }
   ],
   "source": [
    "print(X_train2.shape)"
   ]
  },
  {
   "cell_type": "markdown",
   "metadata": {},
   "source": [
    "## Logistic Regression"
   ]
  },
  {
   "cell_type": "code",
   "execution_count": 12,
   "metadata": {},
   "outputs": [
    {
     "name": "stdout",
     "output_type": "stream",
     "text": [
      "Accuracy for Tree based feature extraction - Logistic regression: 0.75\n"
     ]
    }
   ],
   "source": [
    "from sklearn.metrics import accuracy_score\n",
    "from sklearn.linear_model import LogisticRegressionCV\n",
    "LR_clf_T = LogisticRegressionCV(cv=5, random_state=0,multi_class='multinomial')\n",
    "LR_clf_T.fit(X_train2, y_train2)\n",
    "y_pred_LR_T = LR_clf_T.predict(X_test2)\n",
    "Acc_LR_T = accuracy_score(y_test2, y_pred_LR_T)\n",
    "print(\"Accuracy for Tree based feature extraction - Logistic regression:\" ,Acc_LR_T )"
   ]
  },
  {
   "cell_type": "markdown",
   "metadata": {},
   "source": [
    "## Linear SVC"
   ]
  },
  {
   "cell_type": "code",
   "execution_count": 13,
   "metadata": {},
   "outputs": [
    {
     "name": "stdout",
     "output_type": "stream",
     "text": [
      "Accuracy for Tree based feature extraction - LSVC: 0.75\n"
     ]
    }
   ],
   "source": [
    "from sklearn.svm import LinearSVC\n",
    "from sklearn.metrics import accuracy_score\n",
    "SVC_clf_T = LinearSVC(random_state=0, tol=1e-5)\n",
    "SVC_clf_T.fit(X_train2, y_train2)\n",
    "y_pred_SVC_T=SVC_clf_T.predict(X_test2)\n",
    "Acc_SVC_T = accuracy_score(y_test2, y_pred_SVC_T)\n",
    "print(\"Accuracy for Tree based feature extraction - LSVC:\" , Acc_SVC_T )"
   ]
  },
  {
   "cell_type": "markdown",
   "metadata": {},
   "source": [
    "## Random Projection"
   ]
  },
  {
   "cell_type": "code",
   "execution_count": 14,
   "metadata": {},
   "outputs": [],
   "source": [
    "\n",
    "from sklearn import random_projection\n",
    "transformer = random_projection.GaussianRandomProjection()\n",
    "X_LD = transformer.fit_transform(X)\n",
    "\n"
   ]
  },
  {
   "cell_type": "code",
   "execution_count": 15,
   "metadata": {},
   "outputs": [],
   "source": [
    "X_videos = [X_LD[x:x+6] for x in range(0, len(X_LD), 6)]   \n",
    "\n",
    "\n",
    "concat_list=[]\n",
    "for k in range(0,320):  \n",
    "    c = [j for i in X_videos[k] for j in i]\n",
    "    concat_list.append(c)    \n",
    "\n",
    "\n",
    "Y_List=[]\n",
    "for i in range(0,8):   \n",
    "    for j in range(0,40):\n",
    "        y = i\n",
    "        Y_List.append(y)\n",
    "\n",
    "\n",
    "\n",
    "X_array=np.asarray(concat_list)\n",
    "Y_array=np.asarray(Y_List)\n",
    "\n",
    "\n",
    "from sklearn.model_selection import train_test_split\n",
    "X_train3, X_test3, y_train3, y_test3 = train_test_split(X_array, Y_array, test_size=0.2, random_state=42)\n",
    "print(X_train3.shape)"
   ]
  },
  {
   "cell_type": "markdown",
   "metadata": {},
   "source": [
    "## Logistic Regression"
   ]
  },
  {
   "cell_type": "code",
   "execution_count": 18,
   "metadata": {},
   "outputs": [
    {
     "name": "stdout",
     "output_type": "stream",
     "text": [
      "Accuracy for Random Projection - Logistic regression: 0.765625\n"
     ]
    }
   ],
   "source": [
    "from sklearn.metrics import accuracy_score\n",
    "from sklearn.linear_model import LogisticRegressionCV\n",
    "LR_clf_LD = LogisticRegressionCV(cv=5, random_state=0,multi_class='multinomial')\n",
    "LR_clf_LD.fit(X_train3, y_train3)\n",
    "y_pred_LR_LD = LR_clf_LD.predict(X_test3)\n",
    "Acc_LR_LD = accuracy_score(y_test3, y_pred_LR_LD)\n",
    "\n",
    "print(\"Accuracy for Random Projection - Logistic regression:\" ,Acc_LR_LD )"
   ]
  },
  {
   "cell_type": "markdown",
   "metadata": {},
   "source": [
    "## Linear SVC"
   ]
  },
  {
   "cell_type": "code",
   "execution_count": 19,
   "metadata": {},
   "outputs": [
    {
     "name": "stdout",
     "output_type": "stream",
     "text": [
      "Accuracy for Random Projection - LSVC: 0.734375\n"
     ]
    }
   ],
   "source": [
    "from sklearn.svm import LinearSVC\n",
    "from sklearn.metrics import accuracy_score\n",
    "SVC_clf_LD = LinearSVC(random_state=0, tol=1e-5)\n",
    "SVC_clf_LD.fit(X_train3, y_train3)\n",
    "y_pred_SVC_LD=SVC_clf_LD.predict(X_test3)\n",
    "Acc_SVC_LD = accuracy_score(y_test3, y_pred_SVC_LD)\n",
    "print(\"Accuracy for Random Projection - LSVC:\" ,Acc_SVC_LD )"
   ]
  },
  {
   "cell_type": "markdown",
   "metadata": {},
   "source": [
    "## Principal Component Analysis "
   ]
  },
  {
   "cell_type": "code",
   "execution_count": 20,
   "metadata": {},
   "outputs": [],
   "source": [
    "from sklearn.decomposition import PCA\n",
    "pca = PCA()\n",
    "FE3=pca.fit(X)\n",
    "X_PC = pca.transform(X)"
   ]
  },
  {
   "cell_type": "code",
   "execution_count": 21,
   "metadata": {},
   "outputs": [
    {
     "name": "stdout",
     "output_type": "stream",
     "text": [
      "(256, 11520)\n"
     ]
    }
   ],
   "source": [
    "\n",
    "X_videos = [X_PC[x:x+6] for x in range(0, len(X_PC), 6)]   \n",
    "\n",
    "concat_list=[]\n",
    "for k in range(0,320):  \n",
    "    c = [j for i in X_videos[k] for j in i]\n",
    "    concat_list.append(c)    \n",
    "\n",
    "\n",
    "\n",
    "Y_List=[]\n",
    "for i in range(0,8):   \n",
    "    for j in range(0,40):\n",
    "        y = i\n",
    "        Y_List.append(y)\n",
    "\n",
    "\n",
    "\n",
    "X_array=np.asarray(concat_list)\n",
    "Y_array=np.asarray(Y_List)\n",
    "\n",
    "\n",
    "from sklearn.model_selection import train_test_split\n",
    "X_train4, X_test4, y_train4, y_test4 = train_test_split(X_array, Y_array, test_size=0.2, random_state=42)\n",
    "\n",
    "print(X_train4.shape)"
   ]
  },
  {
   "cell_type": "markdown",
   "metadata": {},
   "source": [
    "## Logistic Regression"
   ]
  },
  {
   "cell_type": "code",
   "execution_count": 22,
   "metadata": {},
   "outputs": [
    {
     "name": "stdout",
     "output_type": "stream",
     "text": [
      "Accuracy for PCA - Logistic regression: 0.75\n"
     ]
    }
   ],
   "source": [
    "from sklearn.metrics import accuracy_score\n",
    " \n",
    "from sklearn.linear_model import LogisticRegressionCV\n",
    "LR_clf_PC = LogisticRegressionCV(cv=5, random_state=0,multi_class='multinomial')\n",
    "LR_clf_PC.fit(X_train4, y_train4)\n",
    "y_pred_LR_PC = LR_clf_PC.predict(X_test4)\n",
    "Acc_LR_PC = accuracy_score(y_test4, y_pred_LR_PC)\n",
    "print(\"Accuracy for PCA - Logistic regression:\" ,Acc_LR_PC )"
   ]
  },
  {
   "cell_type": "markdown",
   "metadata": {},
   "source": [
    "## Linear SVC"
   ]
  },
  {
   "cell_type": "code",
   "execution_count": 23,
   "metadata": {},
   "outputs": [
    {
     "name": "stdout",
     "output_type": "stream",
     "text": [
      "Accuracy for PCA - LSVC: 0.75\n"
     ]
    }
   ],
   "source": [
    "from sklearn.svm import LinearSVC\n",
    "from sklearn.metrics import accuracy_score\n",
    "SVC_clf_PC = LinearSVC(random_state=0, tol=1e-5)\n",
    "SVC_clf_PC.fit(X_train4, y_train4)\n",
    "y_pred_SVC_PC=SVC_clf_PC.predict(X_test4)\n",
    "Acc_SVC_PC = accuracy_score(y_test4, y_pred_SVC_PC)\n",
    "print(\"Accuracy for PCA - LSVC:\" ,Acc_SVC_PC )"
   ]
  }
 ],
 "metadata": {
  "kernelspec": {
   "display_name": "Python 2",
   "language": "python",
   "name": "python2"
  },
  "language_info": {
   "codemirror_mode": {
    "name": "ipython",
    "version": 2
   },
   "file_extension": ".py",
   "mimetype": "text/x-python",
   "name": "python",
   "nbconvert_exporter": "python",
   "pygments_lexer": "ipython2",
   "version": "2.7.15rc1"
  },
  "latex_envs": {
   "LaTeX_envs_menu_present": true,
   "autoclose": false,
   "autocomplete": true,
   "bibliofile": "biblio.bib",
   "cite_by": "apalike",
   "current_citInitial": 1,
   "eqLabelWithNumbers": true,
   "eqNumInitial": 1,
   "hotkeys": {
    "equation": "Ctrl-E",
    "itemize": "Ctrl-I"
   },
   "labels_anchors": false,
   "latex_user_defs": false,
   "report_style_numbering": false,
   "user_envs_cfg": false
  },
  "varInspector": {
   "cols": {
    "lenName": 16,
    "lenType": 16,
    "lenVar": 40
   },
   "kernels_config": {
    "python": {
     "delete_cmd_postfix": "",
     "delete_cmd_prefix": "del ",
     "library": "var_list.py",
     "varRefreshCmd": "print(var_dic_list())"
    },
    "r": {
     "delete_cmd_postfix": ") ",
     "delete_cmd_prefix": "rm(",
     "library": "var_list.r",
     "varRefreshCmd": "cat(var_dic_list()) "
    }
   },
   "position": {
    "height": "403.887px",
    "left": "520.597px",
    "right": "20px",
    "top": "193.995px",
    "width": "774.341px"
   },
   "types_to_exclude": [
    "module",
    "function",
    "builtin_function_or_method",
    "instance",
    "_Feature"
   ],
   "window_display": false
  }
 },
 "nbformat": 4,
 "nbformat_minor": 2
}
